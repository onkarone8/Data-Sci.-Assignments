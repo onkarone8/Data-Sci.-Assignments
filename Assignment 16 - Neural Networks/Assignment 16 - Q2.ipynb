{
 "cells": [
  {
   "cell_type": "markdown",
   "id": "2ef2679d",
   "metadata": {},
   "source": [
    "# Problem statement:\n",
    "\n",
    "predicting turbine energy yield (TEY) using ambient variables as features.\n"
   ]
  },
  {
   "cell_type": "code",
   "execution_count": 1,
   "id": "a3f9e0d6",
   "metadata": {},
   "outputs": [],
   "source": [
    "import pandas as pd\n",
    "import seaborn as sns\n",
    "import matplotlib.pyplot as plt\n",
    "import tensorflow as ts\n",
    "from sklearn.model_selection import train_test_split\n",
    "from sklearn.preprocessing import StandardScaler, LabelEncoder\n",
    "from sklearn.metrics import classification_report\n",
    "from sklearn.metrics import r2_score\n",
    "from tensorflow.keras.layers import Dense\n",
    "from tensorflow.keras import Sequential\n",
    "import warnings\n",
    "warnings.filterwarnings('ignore')\n",
    "plt.rcParams['figure.figsize'] = (10,5)\n",
    "plt.rcParams['figure.dpi'] = 300\n",
    "sns.set_style('darkgrid')\n",
    "%matplotlib inline"
   ]
  },
  {
   "cell_type": "code",
   "execution_count": 2,
   "id": "c34e5c28",
   "metadata": {},
   "outputs": [
    {
     "data": {
      "text/html": [
       "<div>\n",
       "<style scoped>\n",
       "    .dataframe tbody tr th:only-of-type {\n",
       "        vertical-align: middle;\n",
       "    }\n",
       "\n",
       "    .dataframe tbody tr th {\n",
       "        vertical-align: top;\n",
       "    }\n",
       "\n",
       "    .dataframe thead th {\n",
       "        text-align: right;\n",
       "    }\n",
       "</style>\n",
       "<table border=\"1\" class=\"dataframe\">\n",
       "  <thead>\n",
       "    <tr style=\"text-align: right;\">\n",
       "      <th></th>\n",
       "      <th>AT</th>\n",
       "      <th>AP</th>\n",
       "      <th>AH</th>\n",
       "      <th>AFDP</th>\n",
       "      <th>GTEP</th>\n",
       "      <th>TIT</th>\n",
       "      <th>TAT</th>\n",
       "      <th>TEY</th>\n",
       "      <th>CDP</th>\n",
       "      <th>CO</th>\n",
       "      <th>NOX</th>\n",
       "    </tr>\n",
       "  </thead>\n",
       "  <tbody>\n",
       "    <tr>\n",
       "      <th>0</th>\n",
       "      <td>6.8594</td>\n",
       "      <td>1007.9</td>\n",
       "      <td>96.799</td>\n",
       "      <td>3.5000</td>\n",
       "      <td>19.663</td>\n",
       "      <td>1059.2</td>\n",
       "      <td>550.00</td>\n",
       "      <td>114.70</td>\n",
       "      <td>10.605</td>\n",
       "      <td>3.1547</td>\n",
       "      <td>82.722</td>\n",
       "    </tr>\n",
       "    <tr>\n",
       "      <th>1</th>\n",
       "      <td>6.7850</td>\n",
       "      <td>1008.4</td>\n",
       "      <td>97.118</td>\n",
       "      <td>3.4998</td>\n",
       "      <td>19.728</td>\n",
       "      <td>1059.3</td>\n",
       "      <td>550.00</td>\n",
       "      <td>114.72</td>\n",
       "      <td>10.598</td>\n",
       "      <td>3.2363</td>\n",
       "      <td>82.776</td>\n",
       "    </tr>\n",
       "    <tr>\n",
       "      <th>2</th>\n",
       "      <td>6.8977</td>\n",
       "      <td>1008.8</td>\n",
       "      <td>95.939</td>\n",
       "      <td>3.4824</td>\n",
       "      <td>19.779</td>\n",
       "      <td>1059.4</td>\n",
       "      <td>549.87</td>\n",
       "      <td>114.71</td>\n",
       "      <td>10.601</td>\n",
       "      <td>3.2012</td>\n",
       "      <td>82.468</td>\n",
       "    </tr>\n",
       "    <tr>\n",
       "      <th>3</th>\n",
       "      <td>7.0569</td>\n",
       "      <td>1009.2</td>\n",
       "      <td>95.249</td>\n",
       "      <td>3.4805</td>\n",
       "      <td>19.792</td>\n",
       "      <td>1059.6</td>\n",
       "      <td>549.99</td>\n",
       "      <td>114.72</td>\n",
       "      <td>10.606</td>\n",
       "      <td>3.1923</td>\n",
       "      <td>82.670</td>\n",
       "    </tr>\n",
       "    <tr>\n",
       "      <th>4</th>\n",
       "      <td>7.3978</td>\n",
       "      <td>1009.7</td>\n",
       "      <td>95.150</td>\n",
       "      <td>3.4976</td>\n",
       "      <td>19.765</td>\n",
       "      <td>1059.7</td>\n",
       "      <td>549.98</td>\n",
       "      <td>114.72</td>\n",
       "      <td>10.612</td>\n",
       "      <td>3.2484</td>\n",
       "      <td>82.311</td>\n",
       "    </tr>\n",
       "  </tbody>\n",
       "</table>\n",
       "</div>"
      ],
      "text/plain": [
       "       AT      AP      AH    AFDP    GTEP     TIT     TAT     TEY     CDP      CO     NOX\n",
       "0  6.8594  1007.9  96.799  3.5000  19.663  1059.2  550.00  114.70  10.605  3.1547  82.722\n",
       "1  6.7850  1008.4  97.118  3.4998  19.728  1059.3  550.00  114.72  10.598  3.2363  82.776\n",
       "2  6.8977  1008.8  95.939  3.4824  19.779  1059.4  549.87  114.71  10.601  3.2012  82.468\n",
       "3  7.0569  1009.2  95.249  3.4805  19.792  1059.6  549.99  114.72  10.606  3.1923  82.670\n",
       "4  7.3978  1009.7  95.150  3.4976  19.765  1059.7  549.98  114.72  10.612  3.2484  82.311"
      ]
     },
     "execution_count": 2,
     "metadata": {},
     "output_type": "execute_result"
    }
   ],
   "source": [
    "df = pd.read_csv('gas_turbines.csv')\n",
    "df.head()"
   ]
  },
  {
   "cell_type": "code",
   "execution_count": 3,
   "id": "acd58602",
   "metadata": {},
   "outputs": [
    {
     "data": {
      "text/html": [
       "<div>\n",
       "<style scoped>\n",
       "    .dataframe tbody tr th:only-of-type {\n",
       "        vertical-align: middle;\n",
       "    }\n",
       "\n",
       "    .dataframe tbody tr th {\n",
       "        vertical-align: top;\n",
       "    }\n",
       "\n",
       "    .dataframe thead th {\n",
       "        text-align: right;\n",
       "    }\n",
       "</style>\n",
       "<table border=\"1\" class=\"dataframe\">\n",
       "  <thead>\n",
       "    <tr style=\"text-align: right;\">\n",
       "      <th></th>\n",
       "      <th>AT</th>\n",
       "      <th>AP</th>\n",
       "      <th>AH</th>\n",
       "      <th>AFDP</th>\n",
       "      <th>GTEP</th>\n",
       "      <th>TIT</th>\n",
       "      <th>TAT</th>\n",
       "      <th>TEY</th>\n",
       "      <th>CDP</th>\n",
       "      <th>CO</th>\n",
       "      <th>NOX</th>\n",
       "    </tr>\n",
       "  </thead>\n",
       "  <tbody>\n",
       "    <tr>\n",
       "      <th>count</th>\n",
       "      <td>15039.000000</td>\n",
       "      <td>15039.00000</td>\n",
       "      <td>15039.000000</td>\n",
       "      <td>15039.000000</td>\n",
       "      <td>15039.000000</td>\n",
       "      <td>15039.000000</td>\n",
       "      <td>15039.000000</td>\n",
       "      <td>15039.000000</td>\n",
       "      <td>15039.000000</td>\n",
       "      <td>15039.000000</td>\n",
       "      <td>15039.000000</td>\n",
       "    </tr>\n",
       "    <tr>\n",
       "      <th>mean</th>\n",
       "      <td>17.764381</td>\n",
       "      <td>1013.19924</td>\n",
       "      <td>79.124174</td>\n",
       "      <td>4.200294</td>\n",
       "      <td>25.419061</td>\n",
       "      <td>1083.798770</td>\n",
       "      <td>545.396183</td>\n",
       "      <td>134.188464</td>\n",
       "      <td>12.102353</td>\n",
       "      <td>1.972499</td>\n",
       "      <td>68.190934</td>\n",
       "    </tr>\n",
       "    <tr>\n",
       "      <th>std</th>\n",
       "      <td>7.574323</td>\n",
       "      <td>6.41076</td>\n",
       "      <td>13.793439</td>\n",
       "      <td>0.760197</td>\n",
       "      <td>4.173916</td>\n",
       "      <td>16.527806</td>\n",
       "      <td>7.866803</td>\n",
       "      <td>15.829717</td>\n",
       "      <td>1.103196</td>\n",
       "      <td>2.222206</td>\n",
       "      <td>10.470586</td>\n",
       "    </tr>\n",
       "    <tr>\n",
       "      <th>min</th>\n",
       "      <td>0.522300</td>\n",
       "      <td>985.85000</td>\n",
       "      <td>30.344000</td>\n",
       "      <td>2.087400</td>\n",
       "      <td>17.878000</td>\n",
       "      <td>1000.800000</td>\n",
       "      <td>512.450000</td>\n",
       "      <td>100.170000</td>\n",
       "      <td>9.904400</td>\n",
       "      <td>0.000388</td>\n",
       "      <td>27.765000</td>\n",
       "    </tr>\n",
       "    <tr>\n",
       "      <th>25%</th>\n",
       "      <td>11.408000</td>\n",
       "      <td>1008.90000</td>\n",
       "      <td>69.750000</td>\n",
       "      <td>3.723900</td>\n",
       "      <td>23.294000</td>\n",
       "      <td>1079.600000</td>\n",
       "      <td>542.170000</td>\n",
       "      <td>127.985000</td>\n",
       "      <td>11.622000</td>\n",
       "      <td>0.858055</td>\n",
       "      <td>61.303500</td>\n",
       "    </tr>\n",
       "    <tr>\n",
       "      <th>50%</th>\n",
       "      <td>18.186000</td>\n",
       "      <td>1012.80000</td>\n",
       "      <td>82.266000</td>\n",
       "      <td>4.186200</td>\n",
       "      <td>25.082000</td>\n",
       "      <td>1088.700000</td>\n",
       "      <td>549.890000</td>\n",
       "      <td>133.780000</td>\n",
       "      <td>12.025000</td>\n",
       "      <td>1.390200</td>\n",
       "      <td>66.601000</td>\n",
       "    </tr>\n",
       "    <tr>\n",
       "      <th>75%</th>\n",
       "      <td>23.862500</td>\n",
       "      <td>1016.90000</td>\n",
       "      <td>90.043500</td>\n",
       "      <td>4.550900</td>\n",
       "      <td>27.184000</td>\n",
       "      <td>1096.000000</td>\n",
       "      <td>550.060000</td>\n",
       "      <td>140.895000</td>\n",
       "      <td>12.578000</td>\n",
       "      <td>2.160400</td>\n",
       "      <td>73.935500</td>\n",
       "    </tr>\n",
       "    <tr>\n",
       "      <th>max</th>\n",
       "      <td>34.929000</td>\n",
       "      <td>1034.20000</td>\n",
       "      <td>100.200000</td>\n",
       "      <td>7.610600</td>\n",
       "      <td>37.402000</td>\n",
       "      <td>1100.800000</td>\n",
       "      <td>550.610000</td>\n",
       "      <td>174.610000</td>\n",
       "      <td>15.081000</td>\n",
       "      <td>44.103000</td>\n",
       "      <td>119.890000</td>\n",
       "    </tr>\n",
       "  </tbody>\n",
       "</table>\n",
       "</div>"
      ],
      "text/plain": [
       "                 AT           AP            AH          AFDP  ...           TEY           CDP            CO           NOX\n",
       "count  15039.000000  15039.00000  15039.000000  15039.000000  ...  15039.000000  15039.000000  15039.000000  15039.000000\n",
       "mean      17.764381   1013.19924     79.124174      4.200294  ...    134.188464     12.102353      1.972499     68.190934\n",
       "std        7.574323      6.41076     13.793439      0.760197  ...     15.829717      1.103196      2.222206     10.470586\n",
       "min        0.522300    985.85000     30.344000      2.087400  ...    100.170000      9.904400      0.000388     27.765000\n",
       "25%       11.408000   1008.90000     69.750000      3.723900  ...    127.985000     11.622000      0.858055     61.303500\n",
       "50%       18.186000   1012.80000     82.266000      4.186200  ...    133.780000     12.025000      1.390200     66.601000\n",
       "75%       23.862500   1016.90000     90.043500      4.550900  ...    140.895000     12.578000      2.160400     73.935500\n",
       "max       34.929000   1034.20000    100.200000      7.610600  ...    174.610000     15.081000     44.103000    119.890000\n",
       "\n",
       "[8 rows x 11 columns]"
      ]
     },
     "execution_count": 3,
     "metadata": {},
     "output_type": "execute_result"
    }
   ],
   "source": [
    " df.describe()"
   ]
  },
  {
   "cell_type": "code",
   "execution_count": 4,
   "id": "c85857a8",
   "metadata": {},
   "outputs": [
    {
     "name": "stdout",
     "output_type": "stream",
     "text": [
      "<class 'pandas.core.frame.DataFrame'>\n",
      "RangeIndex: 15039 entries, 0 to 15038\n",
      "Data columns (total 11 columns):\n",
      " #   Column  Non-Null Count  Dtype  \n",
      "---  ------  --------------  -----  \n",
      " 0   AT      15039 non-null  float64\n",
      " 1   AP      15039 non-null  float64\n",
      " 2   AH      15039 non-null  float64\n",
      " 3   AFDP    15039 non-null  float64\n",
      " 4   GTEP    15039 non-null  float64\n",
      " 5   TIT     15039 non-null  float64\n",
      " 6   TAT     15039 non-null  float64\n",
      " 7   TEY     15039 non-null  float64\n",
      " 8   CDP     15039 non-null  float64\n",
      " 9   CO      15039 non-null  float64\n",
      " 10  NOX     15039 non-null  float64\n",
      "dtypes: float64(11)\n",
      "memory usage: 1.3 MB\n"
     ]
    }
   ],
   "source": [
    "df.info()"
   ]
  },
  {
   "cell_type": "code",
   "execution_count": 5,
   "id": "9218823d",
   "metadata": {},
   "outputs": [
    {
     "data": {
      "text/plain": [
       "AT      0\n",
       "AP      0\n",
       "AH      0\n",
       "AFDP    0\n",
       "GTEP    0\n",
       "TIT     0\n",
       "TAT     0\n",
       "TEY     0\n",
       "CDP     0\n",
       "CO      0\n",
       "NOX     0\n",
       "dtype: int64"
      ]
     },
     "execution_count": 5,
     "metadata": {},
     "output_type": "execute_result"
    }
   ],
   "source": [
    "df.isna().sum()"
   ]
  },
  {
   "cell_type": "markdown",
   "id": "b2458d1d",
   "metadata": {},
   "source": [
    "### Spliting into train, test."
   ]
  },
  {
   "cell_type": "code",
   "execution_count": 6,
   "id": "40b66683",
   "metadata": {},
   "outputs": [],
   "source": [
    "x = df.drop(columns='TEY')\n",
    "y = df['TEY']"
   ]
  },
  {
   "cell_type": "code",
   "execution_count": 7,
   "id": "b7e216f3",
   "metadata": {},
   "outputs": [
    {
     "data": {
      "text/plain": [
       "array([[-1.4397781 , -0.82664395,  1.28143632, ..., -1.35733078,\n",
       "         0.53201195,  1.3878449 ],\n",
       "       [-1.44960109, -0.74864748,  1.30456402, ..., -1.36367619,\n",
       "         0.56873344,  1.39300237],\n",
       "       [-1.43472138, -0.68625031,  1.21908576, ..., -1.36095673,\n",
       "         0.5529378 ,  1.36358566],\n",
       "       ...,\n",
       "       [-1.38626659, -1.07623263,  1.47697056, ..., -1.46792219,\n",
       "         2.69592467,  2.17006209],\n",
       "       [-1.42042259, -0.99823616,  1.44159024, ..., -1.42259784,\n",
       "         1.9246834 ,  2.391165  ],\n",
       "       [-1.43073409, -0.93583899,  1.33465179, ..., -1.37727349,\n",
       "         1.35415028,  2.32153907]])"
      ]
     },
     "execution_count": 7,
     "metadata": {},
     "output_type": "execute_result"
    }
   ],
   "source": [
    "sc = StandardScaler()\n",
    "\n",
    "x = sc.fit_transform(x)\n",
    "x"
   ]
  },
  {
   "cell_type": "code",
   "execution_count": 8,
   "id": "e7fd9591",
   "metadata": {},
   "outputs": [],
   "source": [
    "xtrain,xtest,ytrain,ytest = train_test_split(x,y, test_size=0.2, random_state=143)"
   ]
  },
  {
   "cell_type": "code",
   "execution_count": 9,
   "id": "5711fcd0",
   "metadata": {},
   "outputs": [
    {
     "name": "stdout",
     "output_type": "stream",
     "text": [
      "Epoch 1/50\n",
      "376/376 [==============================] - 3s 4ms/step - loss: 13879.4648 - val_loss: 6205.7534\n",
      "Epoch 2/50\n",
      "376/376 [==============================] - 1s 3ms/step - loss: 1602.0715 - val_loss: 35.4472\n",
      "Epoch 3/50\n",
      "376/376 [==============================] - 1s 3ms/step - loss: 9.7914 - val_loss: 3.2888\n",
      "Epoch 4/50\n",
      "376/376 [==============================] - 1s 3ms/step - loss: 2.8709 - val_loss: 2.2160\n",
      "Epoch 5/50\n",
      "376/376 [==============================] - 1s 3ms/step - loss: 2.1482 - val_loss: 1.7435\n",
      "Epoch 6/50\n",
      "376/376 [==============================] - 1s 3ms/step - loss: 1.7374 - val_loss: 1.4523\n",
      "Epoch 7/50\n",
      "376/376 [==============================] - 1s 3ms/step - loss: 1.4848 - val_loss: 1.2645\n",
      "Epoch 8/50\n",
      "376/376 [==============================] - 1s 3ms/step - loss: 1.3135 - val_loss: 1.1589\n",
      "Epoch 9/50\n",
      "376/376 [==============================] - 1s 3ms/step - loss: 1.1950 - val_loss: 1.0894\n",
      "Epoch 10/50\n",
      "376/376 [==============================] - 1s 3ms/step - loss: 1.1077 - val_loss: 1.0308\n",
      "Epoch 11/50\n",
      "376/376 [==============================] - 1s 3ms/step - loss: 1.0395 - val_loss: 0.9746\n",
      "Epoch 12/50\n",
      "376/376 [==============================] - 1s 3ms/step - loss: 0.9834 - val_loss: 0.9419\n",
      "Epoch 13/50\n",
      "376/376 [==============================] - 1s 3ms/step - loss: 0.9357 - val_loss: 0.8984\n",
      "Epoch 14/50\n",
      "376/376 [==============================] - 1s 3ms/step - loss: 0.8977 - val_loss: 0.8663\n",
      "Epoch 15/50\n",
      "376/376 [==============================] - 1s 3ms/step - loss: 0.8643 - val_loss: 0.8544\n",
      "Epoch 16/50\n",
      "376/376 [==============================] - 1s 3ms/step - loss: 0.8259 - val_loss: 0.8005\n",
      "Epoch 17/50\n",
      "376/376 [==============================] - 1s 3ms/step - loss: 0.7915 - val_loss: 0.7635\n",
      "Epoch 18/50\n",
      "376/376 [==============================] - 1s 3ms/step - loss: 0.7640 - val_loss: 0.7793\n",
      "Epoch 19/50\n",
      "376/376 [==============================] - 1s 3ms/step - loss: 0.7329 - val_loss: 0.7421\n",
      "Epoch 20/50\n",
      "376/376 [==============================] - 1s 3ms/step - loss: 0.7107 - val_loss: 0.7089\n",
      "Epoch 21/50\n",
      "376/376 [==============================] - 2s 4ms/step - loss: 0.6985 - val_loss: 0.7168\n",
      "Epoch 22/50\n",
      "376/376 [==============================] - 1s 4ms/step - loss: 0.6841 - val_loss: 0.6891\n",
      "Epoch 23/50\n",
      "376/376 [==============================] - 1s 3ms/step - loss: 0.6649 - val_loss: 0.6649\n",
      "Epoch 24/50\n",
      "376/376 [==============================] - 1s 3ms/step - loss: 0.6488 - val_loss: 0.6656\n",
      "Epoch 25/50\n",
      "376/376 [==============================] - 1s 3ms/step - loss: 0.6354 - val_loss: 0.6342\n",
      "Epoch 26/50\n",
      "376/376 [==============================] - 1s 3ms/step - loss: 0.6289 - val_loss: 0.6253\n",
      "Epoch 27/50\n",
      "376/376 [==============================] - 1s 3ms/step - loss: 0.6166 - val_loss: 0.6323\n",
      "Epoch 28/50\n",
      "376/376 [==============================] - 1s 3ms/step - loss: 0.6070 - val_loss: 0.5990\n",
      "Epoch 29/50\n",
      "376/376 [==============================] - 1s 3ms/step - loss: 0.5960 - val_loss: 0.6089\n",
      "Epoch 30/50\n",
      "376/376 [==============================] - 1s 3ms/step - loss: 0.5914 - val_loss: 0.6183\n",
      "Epoch 31/50\n",
      "376/376 [==============================] - 1s 3ms/step - loss: 0.5855 - val_loss: 0.6250\n",
      "Epoch 32/50\n",
      "376/376 [==============================] - 1s 3ms/step - loss: 0.5796 - val_loss: 0.6087\n",
      "Epoch 33/50\n",
      "376/376 [==============================] - 1s 3ms/step - loss: 0.5768 - val_loss: 0.6364\n",
      "Epoch 34/50\n",
      "376/376 [==============================] - 1s 3ms/step - loss: 0.5769 - val_loss: 0.5864\n",
      "Epoch 35/50\n",
      "376/376 [==============================] - 1s 3ms/step - loss: 0.5624 - val_loss: 0.5754\n",
      "Epoch 36/50\n",
      "376/376 [==============================] - 1s 3ms/step - loss: 0.5382 - val_loss: 0.5375\n",
      "Epoch 37/50\n",
      "376/376 [==============================] - 1s 3ms/step - loss: 0.5403 - val_loss: 0.5522\n",
      "Epoch 38/50\n",
      "376/376 [==============================] - 1s 3ms/step - loss: 0.5321 - val_loss: 0.5824\n",
      "Epoch 39/50\n",
      "376/376 [==============================] - 1s 3ms/step - loss: 0.5228 - val_loss: 0.5344\n",
      "Epoch 40/50\n",
      "376/376 [==============================] - 1s 3ms/step - loss: 0.5230 - val_loss: 0.5777\n",
      "Epoch 41/50\n",
      "376/376 [==============================] - 1s 3ms/step - loss: 0.5112 - val_loss: 0.5086\n",
      "Epoch 42/50\n",
      "376/376 [==============================] - 1s 3ms/step - loss: 0.5067 - val_loss: 0.5117\n",
      "Epoch 43/50\n",
      "376/376 [==============================] - 1s 3ms/step - loss: 0.5050 - val_loss: 0.5256\n",
      "Epoch 44/50\n",
      "376/376 [==============================] - 1s 3ms/step - loss: 0.5029 - val_loss: 0.5525\n",
      "Epoch 45/50\n",
      "376/376 [==============================] - 1s 3ms/step - loss: 0.4897 - val_loss: 0.5125\n",
      "Epoch 46/50\n",
      "376/376 [==============================] - 1s 3ms/step - loss: 0.4904 - val_loss: 0.4948\n",
      "Epoch 47/50\n",
      "376/376 [==============================] - 1s 3ms/step - loss: 0.4937 - val_loss: 0.4966\n",
      "Epoch 48/50\n",
      "376/376 [==============================] - 1s 3ms/step - loss: 0.4839 - val_loss: 0.4796\n",
      "Epoch 49/50\n",
      "376/376 [==============================] - 1s 3ms/step - loss: 0.4799 - val_loss: 0.4727\n",
      "Epoch 50/50\n",
      "376/376 [==============================] - 1s 3ms/step - loss: 0.4882 - val_loss: 0.5002\n"
     ]
    },
    {
     "data": {
      "text/plain": [
       "<keras.callbacks.History at 0x1e37a40d190>"
      ]
     },
     "execution_count": 9,
     "metadata": {},
     "output_type": "execute_result"
    }
   ],
   "source": [
    "ann = Sequential()\n",
    "\n",
    "ann.add(Dense(units=30,activation='sigmoid'))\n",
    "ann.add(Dense(units=20,activation='relu'))\n",
    "\n",
    "ann.add(Dense(units=1))\n",
    "\n",
    "ann.compile(optimizer='adam',loss='mse')\n",
    "ann.fit(xtrain,ytrain,validation_data=(xtest,ytest),epochs=50)"
   ]
  },
  {
   "cell_type": "code",
   "execution_count": 10,
   "id": "d6fea4f8",
   "metadata": {},
   "outputs": [
    {
     "data": {
      "text/plain": [
       "<AxesSubplot:>"
      ]
     },
     "execution_count": 10,
     "metadata": {},
     "output_type": "execute_result"
    },
    {
     "data": {
      "image/png": "[encoded data removed]",
      "text/plain": [
       "<Figure size 3000x1500 with 1 Axes>"
      ]
     },
     "metadata": {},
     "output_type": "display_data"
    }
   ],
   "source": [
    "loss = pd.DataFrame(ann.history.history)\n",
    "loss.plot()"
   ]
  },
  {
   "cell_type": "code",
   "execution_count": 11,
   "id": "5f97b383",
   "metadata": {},
   "outputs": [
    {
     "name": "stdout",
     "output_type": "stream",
     "text": [
      "94/94 [==============================] - 0s 2ms/step\n"
     ]
    },
    {
     "data": {
      "text/plain": [
       "array([[133.89618],\n",
       "       [132.61948],\n",
       "       [132.28218],\n",
       "       ...,\n",
       "       [112.04039],\n",
       "       [147.91486],\n",
       "       [154.08292]], dtype=float32)"
      ]
     },
     "execution_count": 11,
     "metadata": {},
     "output_type": "execute_result"
    }
   ],
   "source": [
    "ypred = ann.predict(xtest)\n",
    "ypred"
   ]
  },
  {
   "cell_type": "code",
   "execution_count": 12,
   "id": "9fe50950",
   "metadata": {},
   "outputs": [
    {
     "data": {
      "text/plain": [
       "0.9979792590987325"
      ]
     },
     "execution_count": 12,
     "metadata": {},
     "output_type": "execute_result"
    }
   ],
   "source": [
    "r2_score(ytest,ypred)"
   ]
  }
 ],
 "metadata": {
  "kernelspec": {
   "display_name": "Python 3 (ipykernel)",
   "language": "python",
   "name": "python3"
  },
  "language_info": {
   "codemirror_mode": {
    "name": "ipython",
    "version": 3
   },
   "file_extension": ".py",
   "mimetype": "text/x-python",
   "name": "python",
   "nbconvert_exporter": "python",
   "pygments_lexer": "ipython3",
   "version": "3.9.13"
  }
 },
 "nbformat": 4,
 "nbformat_minor": 5
}
